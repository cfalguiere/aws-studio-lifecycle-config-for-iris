{
 "cells": [
  {
   "cell_type": "code",
   "execution_count": 1,
   "id": "751703f7-4884-4e49-a971-a689199e0a34",
   "metadata": {},
   "outputs": [
    {
     "name": "stdout",
     "output_type": "stream",
     "text": [
      "['aiobotocore==2.3.4',\n",
      " 'aiohttp==3.8.1',\n",
      " 'aioitertools==0.10.0',\n",
      " 'aiosignal==1.2.0',\n",
      " 'alabaster==0.7.12',\n",
      " 'anaconda-client==1.7.2',\n",
      " 'anaconda-project==0.8.3',\n",
      " 'ansi2html==1.8.0',\n",
      " 'argcomplete==2.0.0',\n",
      " 'argh==0.26.2',\n",
      " 'argon2-cffi-bindings==21.2.0',\n",
      " 'argon2-cffi==21.3.0',\n",
      " 'asn1crypto==1.3.0',\n",
      " 'astroid==2.12.5',\n",
      " 'astropy==4.0',\n",
      " 'async-timeout==4.0.2',\n",
      " 'asynctest==0.13.0',\n",
      " 'atomicwrites==1.3.0',\n",
      " 'attrs==21.4.0',\n",
      " 'autopep8==1.4.4',\n",
      " 'autovizwidget==0.20.0',\n",
      " 'awscli==1.25.63',\n",
      " 'babel==2.10.3',\n",
      " 'backcall==0.1.0',\n",
      " 'backports.shutil-get-terminal-size==1.0.0',\n",
      " 'beautifulsoup4==4.8.2',\n",
      " 'bitarray==1.2.1',\n",
      " 'bkcharts==0.2',\n",
      " 'bleach==5.0.1',\n",
      " 'bokeh==1.4.0',\n",
      " 'boto3==1.24.62',\n",
      " 'boto==2.49.0',\n",
      " 'botocore==1.27.62',\n",
      " 'bottleneck==1.3.2',\n",
      " 'brotli==1.0.9',\n",
      " 'brotlipy==0.7.0',\n",
      " 'cached-property==1.5.2',\n",
      " 'certifi==2022.6.15',\n",
      " 'cffi==1.15.0',\n",
      " 'chardet==3.0.4',\n",
      " 'charset-normalizer==2.0.4',\n",
      " 'click==7.0',\n",
      " 'cloudpickle==2.1.0',\n",
      " 'clyent==1.2.2',\n",
      " 'colorama==0.4.3',\n",
      " 'colorlog==6.7.0',\n",
      " 'conda-package-handling==1.8.1',\n",
      " 'conda==4.14.0',\n",
      " 'contextlib2==0.6.0.post1',\n",
      " 'cryptography==37.0.4',\n",
      " 'cycler==0.10.0',\n",
      " 'cython==0.29.15',\n",
      " 'cytoolz==0.10.1',\n",
      " 'dash-core-components==2.0.0',\n",
      " 'dash-html-components==2.0.0',\n",
      " 'dash-table==5.0.0',\n",
      " 'dash==2.6.1',\n",
      " 'dask==2022.2.0',\n",
      " 'decorator==4.4.1',\n",
      " 'defusedxml==0.6.0',\n",
      " 'diff-match-patch==20181111',\n",
      " 'dill==0.3.5.1',\n",
      " 'distlib==0.3.6',\n",
      " 'distributed==2022.2.0',\n",
      " 'distro==1.7.0',\n",
      " 'docker-compose==1.29.2',\n",
      " 'docker==5.0.3',\n",
      " 'dockerpty==0.4.1',\n",
      " 'docopt==0.6.2',\n",
      " 'docutils==0.16',\n",
      " 'dparse==0.5.2',\n",
      " 'entrypoints==0.3',\n",
      " 'et-xmlfile==1.0.1',\n",
      " 'fastcache==1.1.0',\n",
      " 'filelock==3.8.0',\n",
      " 'flake8==3.7.9',\n",
      " 'flask-compress==1.12',\n",
      " 'flask==1.1.1',\n",
      " 'frozenlist==1.3.1',\n",
      " 'fsspec==2022.7.1',\n",
      " 'future==0.18.2',\n",
      " 'gevent==1.4.0',\n",
      " 'glob2==0.7',\n",
      " 'gmpy2==2.0.8',\n",
      " 'google-pasta==0.2.0',\n",
      " 'greenlet==0.4.15',\n",
      " 'h5py==2.10.0',\n",
      " 'hdijupyterutils==0.20.0',\n",
      " 'heapdict==1.0.1',\n",
      " 'html5lib==1.0.1',\n",
      " 'hypothesis==5.5.4',\n",
      " 'idna==2.8',\n",
      " 'imageio==2.6.1',\n",
      " 'imagesize==1.2.0',\n",
      " 'importlib-metadata==4.12.0',\n",
      " 'intervaltree==3.0.2',\n",
      " 'ipykernel==5.1.4',\n",
      " 'ipython-genutils==0.2.0',\n",
      " 'ipython==7.34.0',\n",
      " 'ipywidgets==7.5.1',\n",
      " 'isort==4.3.21',\n",
      " 'itsdangerous==1.1.0',\n",
      " 'jdcal==1.4.1',\n",
      " 'jedi==0.18.1',\n",
      " 'jeepney==0.4.2',\n",
      " 'jinja2==3.1.2',\n",
      " 'jmespath==1.0.1',\n",
      " 'joblib==0.14.1',\n",
      " 'json5==0.9.1',\n",
      " 'jsonschema==3.2.0',\n",
      " 'jupyter-client==5.3.4',\n",
      " 'jupyter-console==6.1.0',\n",
      " 'jupyter-core==4.6.1',\n",
      " 'jupyter-dash==0.4.2',\n",
      " 'jupyter==1.0.0',\n",
      " 'jupyterlab-server==1.0.6',\n",
      " 'jupyterlab==1.2.21',\n",
      " 'keyring==21.1.0',\n",
      " 'kiwisolver==1.1.0',\n",
      " 'lazy-object-proxy==1.4.3',\n",
      " 'libarchive-c==2.8',\n",
      " 'lief==0.9.0',\n",
      " 'llvmlite==0.39.0',\n",
      " 'locket==0.2.0',\n",
      " 'lxml==4.9.1',\n",
      " 'markupsafe==2.1.1',\n",
      " 'matplotlib-inline==0.1.6',\n",
      " 'matplotlib==3.1.3',\n",
      " 'mccabe==0.6.1',\n",
      " 'mistune==0.8.4',\n",
      " 'mkl-fft==1.0.15',\n",
      " 'mkl-random==1.1.0',\n",
      " 'mkl-service==2.3.0',\n",
      " 'mock==4.0.1',\n",
      " 'more-itertools==8.2.0',\n",
      " 'mpmath==1.1.0',\n",
      " 'msgpack==0.6.1',\n",
      " 'multidict==6.0.2',\n",
      " 'multipledispatch==0.6.0',\n",
      " 'multiprocess==0.70.13',\n",
      " 'nbconvert==5.6.1',\n",
      " 'nbformat==5.0.4',\n",
      " 'nest-asyncio==1.5.5',\n",
      " 'networkx==2.4',\n",
      " 'nltk==3.7',\n",
      " 'nose==1.3.7',\n",
      " 'notebook==6.4.12',\n",
      " 'nox==2022.8.7',\n",
      " 'numba==0.56.0',\n",
      " 'numexpr==2.7.1',\n",
      " 'numpy==1.21.6',\n",
      " 'numpydoc==0.9.2',\n",
      " 'olefile==0.46',\n",
      " 'openpyxl==3.0.3',\n",
      " 'packaging==21.3',\n",
      " 'pandas==1.3.5',\n",
      " 'pandocfilters==1.4.2',\n",
      " 'parso==0.8.3',\n",
      " 'partd==1.1.0',\n",
      " 'path==13.1.0',\n",
      " 'pathlib2==2.3.5',\n",
      " 'pathos==0.2.9',\n",
      " 'pathtools==0.1.2',\n",
      " 'patsy==0.5.1',\n",
      " 'pep8==1.7.1',\n",
      " 'pexpect==4.8.0',\n",
      " 'pickleshare==0.7.5',\n",
      " 'pillow==9.2.0',\n",
      " 'pip==22.2.2',\n",
      " 'pkginfo==1.5.0.1',\n",
      " 'platformdirs==2.5.2',\n",
      " 'plotly==5.8.2',\n",
      " 'pluggy==0.13.1',\n",
      " 'ply==3.11',\n",
      " 'pox==0.3.1',\n",
      " 'ppft==1.7.6.5',\n",
      " 'prometheus-client==0.7.1',\n",
      " 'prompt-toolkit==3.0.3',\n",
      " 'protobuf3-to-dict==0.1.5',\n",
      " 'protobuf==3.20.1',\n",
      " 'psutil==5.6.7',\n",
      " 'ptyprocess==0.6.0',\n",
      " 'pure-sasl==0.6.2',\n",
      " 'py==1.11.0',\n",
      " 'pyarrow==9.0.0',\n",
      " 'pyasn1==0.4.8',\n",
      " 'pycodestyle==2.5.0',\n",
      " 'pycosat==0.6.3',\n",
      " 'pycparser==2.19',\n",
      " 'pycrypto==2.6.1',\n",
      " 'pycurl==7.43.0.5',\n",
      " 'pydocstyle==4.0.1',\n",
      " 'pyflakes==2.1.1',\n",
      " 'pyfunctional==1.4.3',\n",
      " 'pygments==2.5.2',\n",
      " 'pyhive==0.6.5',\n",
      " 'pykerberos==1.2.1',\n",
      " 'pylint==2.15.0',\n",
      " 'pyodbc==4.0.0-unsupported',\n",
      " 'pyopenssl==19.1.0',\n",
      " 'pyparsing==2.4.6',\n",
      " 'pyrsistent==0.15.7',\n",
      " 'pysocks==1.7.1',\n",
      " 'pytest-arraydiff==0.3',\n",
      " 'pytest-astropy-header==0.1.2',\n",
      " 'pytest-astropy==0.8.0',\n",
      " 'pytest-doctestplus==0.5.0',\n",
      " 'pytest-openfiles==0.4.0',\n",
      " 'pytest-remotedata==0.3.2',\n",
      " 'pytest==5.3.5',\n",
      " 'python-dateutil==2.8.1',\n",
      " 'python-dotenv==0.20.0',\n",
      " 'python-jsonrpc-server==0.3.4',\n",
      " 'python-language-server==0.31.7',\n",
      " 'pytz==2019.3',\n",
      " 'pywavelets==1.1.1',\n",
      " 'pyxdg==0.26',\n",
      " 'pyyaml==6.0',\n",
      " 'pyzmq==18.1.1',\n",
      " 'qdarkstyle==2.8',\n",
      " 'qtawesome==0.6.1',\n",
      " 'qtconsole==4.6.0',\n",
      " 'qtpy==1.9.0',\n",
      " 'regex==2022.8.17',\n",
      " 'requests-kerberos==0.12.0',\n",
      " 'requests==2.28.1',\n",
      " 'retrying==1.3.3',\n",
      " 'rope==0.16.0',\n",
      " 'rsa==4.9',\n",
      " 'rtree==0.9.3',\n",
      " 'ruamel-yaml==0.15.87',\n",
      " 's3fs==2022.7.1',\n",
      " 's3transfer==0.6.0',\n",
      " 'sagemaker-experiments==0.1.39',\n",
      " 'sagemaker-studio-analytics-extension==0.0.10',\n",
      " 'sagemaker-studio-sparkmagic-lib==0.1.4',\n",
      " 'sagemaker==2.107.0',\n",
      " 'sasl==0.2.1',\n",
      " 'scikit-image==0.16.2',\n",
      " 'scikit-learn==0.22.1',\n",
      " 'scipy==1.4.1',\n",
      " 'seaborn==0.10.0',\n",
      " 'secretstorage==3.1.2',\n",
      " 'send2trash==1.8.0',\n",
      " 'setuptools==59.3.0',\n",
      " 'simplegeneric==0.8.1',\n",
      " 'singledispatch==3.4.0.3',\n",
      " 'six==1.14.0',\n",
      " 'sklearn==0.0',\n",
      " 'smclarify==0.2',\n",
      " 'smdebug-rulesconfig==1.0.1',\n",
      " 'snowballstemmer==2.0.0',\n",
      " 'sortedcollections==1.1.2',\n",
      " 'sortedcontainers==2.1.0',\n",
      " 'soupsieve==1.9.5',\n",
      " 'sparkmagic==0.20.0',\n",
      " 'sphinx==2.4.0',\n",
      " 'sphinxcontrib-applehelp==1.0.1',\n",
      " 'sphinxcontrib-devhelp==1.0.1',\n",
      " 'sphinxcontrib-htmlhelp==1.0.2',\n",
      " 'sphinxcontrib-jsmath==1.0.1',\n",
      " 'sphinxcontrib-qthelp==1.0.2',\n",
      " 'sphinxcontrib-serializinghtml==1.1.3',\n",
      " 'sphinxcontrib-websupport==1.2.0',\n",
      " 'spyder-kernels==1.8.1',\n",
      " 'spyder==4.0.1',\n",
      " 'sqlalchemy==1.3.13',\n",
      " 'statsmodels==0.11.0',\n",
      " 'sympy==1.5.1',\n",
      " 'tables==3.6.1',\n",
      " 'tabulate==0.8.10',\n",
      " 'tblib==1.6.0',\n",
      " 'tenacity==8.0.1',\n",
      " 'terminado==0.8.3',\n",
      " 'testpath==0.4.4',\n",
      " 'texttable==1.6.4',\n",
      " 'thrift-sasl==0.4.3',\n",
      " 'thrift==0.13.0',\n",
      " 'toml==0.10.2',\n",
      " 'tomli==2.0.1',\n",
      " 'tomlkit==0.11.4',\n",
      " 'toolz==0.10.0',\n",
      " 'tornado==6.2',\n",
      " 'tqdm==4.42.1',\n",
      " 'traitlets==4.3.3',\n",
      " 'typed-ast==1.5.4',\n",
      " 'typing-extensions==4.3.0',\n",
      " 'ujson==5.4.0',\n",
      " 'unicodecsv==0.14.1',\n",
      " 'urllib3==1.26.12',\n",
      " 'virtualenv==20.16.6',\n",
      " 'watchdog==0.10.2',\n",
      " 'wcwidth==0.1.8',\n",
      " 'webencodings==0.5.1',\n",
      " 'websocket-client==0.59.0',\n",
      " 'werkzeug==1.0.0',\n",
      " 'wheel==0.34.2',\n",
      " 'widgetsnbextension==3.5.1',\n",
      " 'wrapt==1.11.2',\n",
      " 'wurlitzer==2.0.0',\n",
      " 'xlrd==1.2.0',\n",
      " 'xlsxwriter==1.2.7',\n",
      " 'xlwt==1.3.0',\n",
      " 'yapf==0.28.0',\n",
      " 'yarl==1.8.1',\n",
      " 'zict==1.0.0',\n",
      " 'zipp==3.8.1']\n"
     ]
    }
   ],
   "source": [
    "import pkg_resources\n",
    "import pprint\n",
    "installed_packages = pkg_resources.working_set\n",
    "installed_packages_list = sorted([\"%s==%s\" % (i.key, i.version)\n",
    "   for i in installed_packages])\n",
    "pprint.pprint(installed_packages_list)"
   ]
  },
  {
   "cell_type": "markdown",
   "id": "3f98a1ea-a9f9-4953-89d9-317261de8c90",
   "metadata": {},
   "source": [
    "Logistic Regression on IRIS Dataset \n",
    "using the Scikit-learn library."
   ]
  },
  {
   "cell_type": "code",
   "execution_count": 3,
   "id": "a8e49179-7637-4823-b611-df042c5e2fd3",
   "metadata": {},
   "outputs": [],
   "source": [
    "# Import libraries\n",
    "import numpy as np\n",
    "import matplotlib.pyplot as plt\n",
    "import pandas as pd\n",
    "from sklearn import datasets"
   ]
  },
  {
   "cell_type": "code",
   "execution_count": 4,
   "id": "44d6cdfe-2e3c-47d6-b386-87d39c55ac19",
   "metadata": {},
   "outputs": [],
   "source": [
    "# Import the iris dataset\n",
    "iris = datasets.load_iris()\n",
    "X = iris.data[:, :4]  # keep first four features.\n",
    "y = iris.target"
   ]
  },
  {
   "cell_type": "code",
   "execution_count": 5,
   "id": "e2e0543e-3c74-4492-8fdd-0823c35c2b3d",
   "metadata": {},
   "outputs": [
    {
     "data": {
      "text/plain": [
       "'/opt/conda/lib/python3.7/site-packages/sklearn/datasets/data/iris.csv'"
      ]
     },
     "execution_count": 5,
     "metadata": {},
     "output_type": "execute_result"
    }
   ],
   "source": [
    "dataset_file = iris.filename\n",
    "dataset_file"
   ]
  },
  {
   "cell_type": "code",
   "execution_count": 6,
   "id": "abd0d002-bb70-419b-be1c-57e19eea9f41",
   "metadata": {},
   "outputs": [
    {
     "name": "stdout",
     "output_type": "stream",
     "text": [
      "X (150, 4)\n",
      "y 150\n"
     ]
    }
   ],
   "source": [
    "print(f\"X {X.shape}\")\n",
    "print(f\"y {len(y)}\")"
   ]
  },
  {
   "cell_type": "code",
   "execution_count": 7,
   "id": "71d5c76f-c246-4217-8ec7-4267b1c5b8ae",
   "metadata": {},
   "outputs": [
    {
     "name": "stdout",
     "output_type": "stream",
     "text": [
      "[[5.1 3.5 1.4 0.2]\n",
      " [4.9 3.  1.4 0.2]\n",
      " [4.7 3.2 1.3 0.2]\n",
      " [4.6 3.1 1.5 0.2]\n",
      " [5.  3.6 1.4 0.2]]\n"
     ]
    }
   ],
   "source": [
    "print(X[:5, :])"
   ]
  },
  {
   "cell_type": "code",
   "execution_count": 8,
   "id": "99cd3557-3156-41be-b51d-7205ddb1f83b",
   "metadata": {},
   "outputs": [],
   "source": [
    "# split dataset into train and test\n",
    "from sklearn.model_selection import train_test_split\n",
    "X_train, X_test, y_train, y_test = train_test_split(X, y, test_size = 0.25, random_state = 0)"
   ]
  },
  {
   "cell_type": "code",
   "execution_count": 9,
   "id": "af76a2b9-7716-4d13-9116-197f874f35f8",
   "metadata": {},
   "outputs": [
    {
     "name": "stdout",
     "output_type": "stream",
     "text": [
      "X_train (112, 4)\n",
      "X_test (38, 4)\n",
      "y_train 112\n",
      "y_test 38\n"
     ]
    }
   ],
   "source": [
    "print(f\"X_train {X_train.shape}\")\n",
    "print(f\"X_test {X_test.shape}\")\n",
    "print(f\"y_train {len(y_train)}\")\n",
    "print(f\"y_test {len(y_test)}\")"
   ]
  },
  {
   "cell_type": "code",
   "execution_count": 10,
   "id": "60f2fbe0-aa4f-4617-9887-09f0b5f3795a",
   "metadata": {},
   "outputs": [],
   "source": [
    "# normalize data\n",
    "from sklearn.preprocessing import StandardScaler\n",
    "sc = StandardScaler()\n",
    "X_train = sc.fit_transform(X_train)\n",
    "X_test = sc.transform(X_test)"
   ]
  },
  {
   "cell_type": "code",
   "execution_count": 11,
   "id": "15d43f2f-19d6-4ea1-bbab-dc31aa7c3559",
   "metadata": {},
   "outputs": [
    {
     "name": "stdout",
     "output_type": "stream",
     "text": [
      "[[ 0.01543995 -0.11925475  0.22512685  0.35579762]\n",
      " [-0.09984503 -1.04039491  0.11355956 -0.02984109]\n",
      " [ 1.05300481 -0.11925475  0.95031423  1.12707506]\n",
      " [-1.36797986  0.34131533 -1.39259884 -1.31530348]\n",
      " [ 1.1682898   0.11103029  0.72717965  1.38416753]]\n"
     ]
    }
   ],
   "source": [
    "print(X_train[:5, :])"
   ]
  },
  {
   "cell_type": "code",
   "execution_count": 12,
   "id": "9d4ed70e-9998-47fa-b5e1-58071329e876",
   "metadata": {},
   "outputs": [
    {
     "data": {
      "text/plain": [
       "LogisticRegression(C=1.0, class_weight=None, dual=False, fit_intercept=True,\n",
       "                   intercept_scaling=1, l1_ratio=None, max_iter=100,\n",
       "                   multi_class='auto', n_jobs=None, penalty='l2',\n",
       "                   random_state=0, solver='lbfgs', tol=0.0001, verbose=0,\n",
       "                   warm_start=False)"
      ]
     },
     "execution_count": 12,
     "metadata": {},
     "output_type": "execute_result"
    }
   ],
   "source": [
    "# Fit Logistic Regression \n",
    "from sklearn.linear_model import LogisticRegression\n",
    "solver = 'lbfgs'\n",
    "classifier = LogisticRegression(random_state = 0, solver=solver, multi_class='auto')\n",
    "classifier.fit(X_train, y_train)"
   ]
  },
  {
   "cell_type": "code",
   "execution_count": 13,
   "id": "eb5f5455-2739-45cf-b7eb-12442e3632ac",
   "metadata": {},
   "outputs": [],
   "source": [
    "# Predict using test set\n",
    "y_pred = classifier.predict(X_test)\n",
    "\n",
    "# Predict probabilities using test set\n",
    "probs_y = classifier.predict_proba(X_test)\n",
    "probs_y_rounded = np.round(probs_y, 2)"
   ]
  },
  {
   "cell_type": "code",
   "execution_count": 14,
   "id": "adacacda-9c81-48a8-91ab-9bef0d321be4",
   "metadata": {},
   "outputs": [
    {
     "name": "stdout",
     "output_type": "stream",
     "text": [
      "y_test     | y_pred     | Setosa(%)  | versicolor(%) | virginica(%)\n",
      "-----------------------------------------------------------------\n",
      "2          | 2          | 0.0        | 0.03          | 0.97      \n",
      "1          | 1          | 0.01       | 0.95          | 0.04      \n",
      "0          | 0          | 1.0        | 0.0           | 0.0       \n",
      "2          | 2          | 0.0        | 0.08          | 0.92      \n",
      "0          | 0          | 0.98       | 0.02          | 0.0       \n",
      "2          | 2          | 0.0        | 0.01          | 0.99      \n",
      "0          | 0          | 0.98       | 0.02          | 0.0       \n",
      "1          | 1          | 0.01       | 0.71          | 0.28      \n",
      "1          | 1          | 0.0        | 0.73          | 0.27      \n",
      "1          | 1          | 0.02       | 0.89          | 0.08      \n",
      "2          | 2          | 0.0        | 0.44          | 0.56      \n",
      "1          | 1          | 0.02       | 0.76          | 0.22      \n",
      "1          | 1          | 0.01       | 0.85          | 0.13      \n",
      "1          | 1          | 0.0        | 0.69          | 0.3       \n",
      "1          | 1          | 0.01       | 0.75          | 0.24      \n",
      "0          | 0          | 0.99       | 0.01          | 0.0       \n",
      "1          | 1          | 0.02       | 0.72          | 0.26      \n",
      "1          | 1          | 0.03       | 0.86          | 0.11      \n",
      "0          | 0          | 0.94       | 0.06          | 0.0       \n",
      "0          | 0          | 0.99       | 0.01          | 0.0       \n",
      "2          | 2          | 0.0        | 0.17          | 0.83      \n",
      "1          | 1          | 0.04       | 0.71          | 0.25      \n",
      "0          | 0          | 0.98       | 0.02          | 0.0       \n",
      "0          | 0          | 0.96       | 0.04          | 0.0       \n",
      "2          | 2          | 0.0        | 0.35          | 0.65      \n",
      "0          | 0          | 1.0        | 0.0           | 0.0       \n",
      "0          | 0          | 0.99       | 0.01          | 0.0       \n",
      "1          | 1          | 0.02       | 0.87          | 0.11      \n",
      "1          | 1          | 0.09       | 0.9           | 0.02      \n",
      "0          | 0          | 0.97       | 0.03          | 0.0       \n",
      "2          | 2          | 0.0        | 0.21          | 0.79      \n",
      "1          | 1          | 0.06       | 0.69          | 0.25      \n",
      "0          | 0          | 0.98       | 0.02          | 0.0       \n",
      "2          | 2          | 0.0        | 0.35          | 0.65      \n",
      "2          | 2          | 0.0        | 0.04          | 0.96      \n",
      "1          | 1          | 0.07       | 0.81          | 0.11      \n",
      "0          | 0          | 0.97       | 0.03          | 0.0       \n",
      "1          | 2          | 0.0        | 0.42          | 0.58      \n",
      "-----------------------------------------------------------------\n",
      "\n"
     ]
    }
   ],
   "source": [
    "res = \"{:<10} | {:<10} | {:<10} | {:<13} | {:<5}\".format(\"y_test\", \"y_pred\", \"Setosa(%)\", \"versicolor(%)\", \"virginica(%)\\n\")\n",
    "res += \"-\"*65+\"\\n\"\n",
    "res += \"\\n\".join(\"{:<10} | {:<10} | {:<10} | {:<13} | {:<10}\".format(x, y, a, b, c) for x, y, a, b, c in zip(y_test, y_pred, probs_y_rounded[:,0], probs_y_rounded[:,1], probs_y_rounded[:,2]))\n",
    "res += \"\\n\"+\"-\"*65+\"\\n\"\n",
    "print(res)"
   ]
  },
  {
   "cell_type": "code",
   "execution_count": 15,
   "id": "fd42e58c-5a03-42dc-b91f-bc221a239f16",
   "metadata": {},
   "outputs": [],
   "source": [
    "accuracy = classifier.score(X_test, y_pred)"
   ]
  },
  {
   "cell_type": "code",
   "execution_count": 16,
   "id": "a5836872-3baa-4268-a70f-ffc56183c841",
   "metadata": {},
   "outputs": [
    {
     "name": "stdout",
     "output_type": "stream",
     "text": [
      "accuracy 1.0\n"
     ]
    }
   ],
   "source": [
    "print(f\"accuracy {accuracy}\")"
   ]
  },
  {
   "cell_type": "code",
   "execution_count": 17,
   "id": "8197374b-d0b6-4e8f-8edd-35388a7e7c6c",
   "metadata": {},
   "outputs": [
    {
     "name": "stdout",
     "output_type": "stream",
     "text": [
      "[[13  0  0]\n",
      " [ 0 15  1]\n",
      " [ 0  0  9]]\n"
     ]
    }
   ],
   "source": [
    "# confusion matrix\n",
    "from sklearn.metrics import confusion_matrix\n",
    "cm = confusion_matrix(y_test, y_pred)\n",
    "print(cm)\n"
   ]
  },
  {
   "cell_type": "code",
   "execution_count": 18,
   "id": "4cf58407-287e-4485-959c-5fb5900f0041",
   "metadata": {},
   "outputs": [
    {
     "data": {
      "image/png": "[encoded data removed]",
      "text/plain": [
       "<Figure size 640x480 with 2 Axes>"
      ]
     },
     "metadata": {},
     "output_type": "display_data"
    }
   ],
   "source": [
    "# Plot confusion matrix\n",
    "import seaborn as sns\n",
    "import pandas as pd\n",
    "# confusion matrix sns heatmap \n",
    "fig = plt.figure()\n",
    "\n",
    "ax = plt.axes()\n",
    "df_cm = cm\n",
    "sns.heatmap(df_cm, annot=True, annot_kws={\"size\": 30}, fmt='d',cmap=\"Blues\", ax = ax )\n",
    "ax.set_title('Confusion Matrix')\n",
    "plt.show()\n",
    "\n",
    "fig.savefig('cm.png')"
   ]
  },
  {
   "cell_type": "code",
   "execution_count": 19,
   "id": "23c9a73d-c584-43cc-8fcd-9137bcfa755c",
   "metadata": {},
   "outputs": [
    {
     "data": {
      "image/png": "[encoded data removed]",
      "text/plain": [
       "<Figure size 640x480 with 1 Axes>"
      ]
     },
     "metadata": {},
     "output_type": "display_data"
    }
   ],
   "source": [
    "# Plot the dataset points\n",
    "plt.scatter(X[:, 0], X[:, 1], c=y, edgecolors=\"k\", cmap=plt.cm.Paired)\n",
    "\n",
    "\n",
    "plt.xticks(())\n",
    "plt.yticks(())\n",
    "\n",
    "plt.show()"
   ]
  },
  {
   "cell_type": "code",
   "execution_count": 20,
   "id": "3e69cd1a-400f-490e-9f84-e1f65fe65e54",
   "metadata": {},
   "outputs": [
    {
     "name": "stdout",
     "output_type": "stream",
     "text": [
      "7da77d42-56e4-11ed-b44e-31e64c8a732c\n"
     ]
    },
    {
     "name": "stderr",
     "output_type": "stream",
     "text": [
      "WARNING:root:Cannot write metrics in this environment.\n"
     ]
    }
   ],
   "source": [
    "# log trial\n",
    "\n",
    "from smexperiments import trial, experiment, tracker\n",
    "import uuid\n",
    "\n",
    "import sagemaker\n",
    "from sagemaker import get_execution_role\n",
    "\n",
    "role = get_execution_role()\n",
    "sess = sagemaker.Session()\n",
    "\n",
    "try:\n",
    "    my_experiment = experiment.Experiment.create(experiment_name='iris-LR')\n",
    "except:\n",
    "    my_experiment =experiment.Experiment.load(experiment_name='iris-LR')\n",
    "\n",
    "tid = uuid.uuid1()\n",
    "print(tid)\n",
    "my_trial = my_experiment.create_trial(trial_name=f'LR-{tid}')\n",
    "\n",
    "# use `with` statement to ensure `my_tracker.close()` is called\n",
    "with tracker.Tracker.create(display_name=\"Training\") as my_tracker:\n",
    "    # log hyper parameter of learning rate\n",
    "    my_tracker.log_parameter('solver', solver)\n",
    "    # log dataset\n",
    "    my_tracker.log_input(name='input', value=dataset_file)\n",
    "    # log hyper metric of learning rate\n",
    "    my_tracker.log_metric('accuracy', accuracy)\n",
    "    my_tracker.log_metric(metric_name='accuracy', value=accuracy, iteration_number=1)\n",
    "\n",
    "    # log a table\n",
    "    #my_tracker.log_table('Confusion Matrix', cm)\n",
    "\n",
    "    # log a figure\n",
    "    my_tracker.log_artifact('cm.png', name='confusion-matrix-plot')\n",
    "                            \n",
    "    # associate the trial component with the trial\n",
    "    my_trial.add_trial_component(my_tracker)"
   ]
  },
  {
   "cell_type": "code",
   "execution_count": null,
   "id": "491548a3-118f-4353-81ab-69b1530f9734",
   "metadata": {},
   "outputs": [],
   "source": []
  }
 ],
 "metadata": {
  "instance_type": "ml.t3.medium",
  "kernelspec": {
   "display_name": "iris-20221028-165822 (arn:aws:sagemaker:eu-west-3:615547856133:image/datascience-1.0)",
   "language": "python",
   "name": "iris-20221028-165822__SAGEMAKER_INTERNAL__arn:aws:sagemaker:eu-west-3:615547856133:image/datascience-1.0"
  },
  "language_info": {
   "codemirror_mode": {
    "name": "ipython",
    "version": 3
   },
   "file_extension": ".py",
   "mimetype": "text/x-python",
   "name": "python",
   "nbconvert_exporter": "python",
   "pygments_lexer": "ipython3",
   "version": "3.7.10"
  },
  "lcc_arn": "arn:aws:sagemaker:eu-west-3:102959664345:studio-lifecycle-config/lcc-kg-iris-20221028-165822"
 },
 "nbformat": 4,
 "nbformat_minor": 5
}
